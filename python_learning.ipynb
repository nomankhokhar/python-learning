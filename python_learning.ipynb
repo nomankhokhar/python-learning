{
 "cells": [
  {
   "cell_type": "markdown",
   "id": "65457a7c",
   "metadata": {},
   "source": [
    "# Variables"
   ]
  },
  {
   "cell_type": "code",
   "execution_count": 6,
   "id": "5e7a0567",
   "metadata": {},
   "outputs": [
    {
     "name": "stdout",
     "output_type": "stream",
     "text": [
      "42\n",
      "3.14\n",
      "Hello, World!\n",
      "True\n"
     ]
    }
   ],
   "source": [
    "# Variable assignment\n",
    "number = 42\n",
    "pi = 3.14\n",
    "greeting = \"Hello, World!\"\n",
    "is_happy = True\n",
    "\n",
    "print(number)\n",
    "print(pi)\n",
    "print(greeting)\n",
    "print(is_happy)"
   ]
  },
  {
   "cell_type": "markdown",
   "id": "a8bb877a",
   "metadata": {},
   "source": [
    "# Control Flow Statement"
   ]
  },
  {
   "cell_type": "code",
   "execution_count": 19,
   "id": "ed1593de",
   "metadata": {},
   "outputs": [
    {
     "name": "stdout",
     "output_type": "stream",
     "text": [
      "Enter your age : 100\n",
      "You can vot Now...\n"
     ]
    }
   ],
   "source": [
    "age = input(\"Enter your age : \")\n",
    "\n",
    "age = float(age)\n",
    "\n",
    "if age <= 15:\n",
    "    print(\"You are too early\")\n",
    "elif age >= 18:\n",
    "    print(\"You can vot Now...\")\n",
    "else:\n",
    "    print(\"You are not Eligible...\")"
   ]
  },
  {
   "cell_type": "markdown",
   "id": "74ea25d6",
   "metadata": {},
   "source": [
    "# Function"
   ]
  },
  {
   "cell_type": "code",
   "execution_count": 26,
   "id": "0c15a233",
   "metadata": {},
   "outputs": [
    {
     "name": "stdout",
     "output_type": "stream",
     "text": [
      "Enter your age : 100\n",
      "You can vot Now...\n"
     ]
    }
   ],
   "source": [
    "age = input(\"Enter your age : \")\n",
    "\n",
    "age = float(age)\n",
    "\n",
    "checkVoteAge(age)\n",
    "\n",
    "\n",
    "def checkVoteAge (age):\n",
    "    if age <= 15:\n",
    "        print(\"You are too early\")\n",
    "    elif age >= 18:\n",
    "        print(\"You can vot Now...\")\n",
    "    else:\n",
    "        print(\"You are not Eligible...\")\n"
   ]
  },
  {
   "cell_type": "markdown",
   "id": "77ca9b53",
   "metadata": {},
   "source": [
    "# Exception Handling"
   ]
  },
  {
   "cell_type": "code",
   "execution_count": 31,
   "id": "a9dfd021",
   "metadata": {},
   "outputs": [
    {
     "name": "stdout",
     "output_type": "stream",
     "text": [
      "No exceptions were raised.\n",
      "This block always runs, whether an exception occurred or not.\n"
     ]
    }
   ],
   "source": [
    "try:\n",
    "    x = 10 / 12\n",
    "except ZeroDivisionError:\n",
    "    print(\"Division by zero is not allowed.\")\n",
    "except Exception as e:\n",
    "    print(f\"An error occurred: {e}\")\n",
    "else:\n",
    "    print(\"No exceptions were raised.\")\n",
    "finally:\n",
    "    print(\"This block always runs, whether an exception occurred or not.\")\n"
   ]
  },
  {
   "cell_type": "markdown",
   "id": "03e1b108",
   "metadata": {},
   "source": [
    "# Module"
   ]
  },
  {
   "cell_type": "code",
   "execution_count": 7,
   "id": "4b579990",
   "metadata": {},
   "outputs": [
    {
     "name": "stdout",
     "output_type": "stream",
     "text": [
      "78.5\n"
     ]
    }
   ],
   "source": [
    "import math\n",
    "\n",
    "pi = 3.14\n",
    "radius = 5\n",
    "area = pi * math.pow(radius , 2)\n",
    "\n",
    "print(area)\n"
   ]
  },
  {
   "cell_type": "code",
   "execution_count": null,
   "id": "1ad83c2e",
   "metadata": {},
   "outputs": [],
   "source": []
  }
 ],
 "metadata": {
  "kernelspec": {
   "display_name": "Python 3 (ipykernel)",
   "language": "python",
   "name": "python3"
  },
  "language_info": {
   "codemirror_mode": {
    "name": "ipython",
    "version": 3
   },
   "file_extension": ".py",
   "mimetype": "text/x-python",
   "name": "python",
   "nbconvert_exporter": "python",
   "pygments_lexer": "ipython3",
   "version": "3.10.9"
  }
 },
 "nbformat": 4,
 "nbformat_minor": 5
}
